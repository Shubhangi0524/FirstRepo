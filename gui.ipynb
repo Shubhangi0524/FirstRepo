{
 "cells": [
  {
   "cell_type": "code",
   "execution_count": 1,
   "id": "8c2fb4cc",
   "metadata": {},
   "outputs": [],
   "source": [
    "from tkinter import *\n",
    "import string\n",
    "import random\n",
    "import os\n",
    "#import sheets\n",
    "from PIL import Image,ImageTk\n"
   ]
  },
  {
   "cell_type": "code",
   "execution_count": null,
   "id": "61fb2d8d",
   "metadata": {},
   "outputs": [],
   "source": []
  },
  {
   "cell_type": "code",
   "execution_count": 2,
   "id": "9d69c8e2",
   "metadata": {},
   "outputs": [
    {
     "name": "stderr",
     "output_type": "stream",
     "text": [
      "C:\\Users\\sjkadam\\AppData\\Local\\Temp\\ipykernel_16028\\2945709924.py:17: DeprecationWarning: ANTIALIAS is deprecated and will be removed in Pillow 10 (2023-07-01). Use Resampling.LANCZOS instead.\n",
      "  image = deathwing.resize((300,300),Image.ANTIALIAS)\n"
     ]
    }
   ],
   "source": [
    "path = \"C:\\\\Users\\\\sjkadam\\\\MY_FINAL_PROJECT\\\\resources\\\\\"\n",
    "\n",
    "window = Tk()\n",
    "window.title('Hand Gesture Controlled System')\n",
    "window.iconbitmap(path + 'hand.png')\n",
    "window.configure(background = \"black\")\n",
    "\n",
    "\n",
    "heading = Label(window, text = 'Hand Gesture Controlled System', bg = \"black\", fg = \"white\",font = \"Perpetua 24 bold\")\n",
    "heading.grid(row = 0,column = 0)\n",
    "\n",
    "frame = LabelFrame(window,padx = 100, pady = 50)\n",
    "frame.grid(padx = 10, pady = 10)\n",
    "frame.configure(background = \"white\")\n",
    "\n",
    "deathwing = Image.open(path + 'logo.png')\n",
    "image = deathwing.resize((300,300),Image.ANTIALIAS)\n",
    "Deathwing = ImageTk.PhotoImage(image)\n",
    "imagelabel = Label(frame,image = Deathwing,borderwidth = 0)\n",
    "imagelabel.grid(row = 0,column = 0)\n",
    "\n",
    "\n",
    "def click():\n",
    "    window2 = Tk()\n",
    "    window2.title('Camera')\n",
    "    # window2.iconbitmap(path + 'hand.png')\n",
    "    heading = Label(window2, text='Thank You!', bg=\"black\", fg=\"white\", font=\"Perpetua 24 bold\")\n",
    "    heading.grid(row=0, column=0)\n",
    "\n",
    "    frame = LabelFrame(window2, padx=100, pady=50)\n",
    "    frame.grid(padx=10, pady=10)\n",
    "    frame.configure(background=\"white\")\n",
    "    window2.configure(background=\"black\")\n",
    "\n",
    "    btn = Button(window2, text='Close me!', bg=\"gray\", fg=\"white\", height=1, width=20, command= window.quit)\n",
    "    btn.grid(row=25, column=0, pady=10, padx=10)\n",
    "\n",
    "    os.system('python \"sheets.py\"')\n",
    "\n",
    "\n",
    "def click_start():\n",
    "    window.destroy()\n",
    "\n",
    "    # Second page starts here (New and Existing user)\n",
    "\n",
    "    root = Tk()\n",
    "    root.title('User')\n",
    "    #root.iconbitmap(path + 'logo.png')\n",
    "    root.configure(background=\"black\")\n",
    "\n",
    "    new_frame = LabelFrame(root, padx=100, pady=80)\n",
    "    new_frame.grid(padx=15, pady=15)\n",
    "    new_frame.configure(background=\"white\")\n",
    "\n",
    "    labelG1= Label(new_frame, text=\"Palm : Open VLC Media Player\", bg=\"white\", pady=5, font=\"Perpetua 15 \")\n",
    "    labelG1.grid(row=0, column=0, sticky='w')\n",
    "    labelG2 = Label(new_frame, text=\"Left : open Powerpoint \", bg=\"white\", pady=5, font=\"Perpetua 15 \")\n",
    "    labelG2.grid(row=5, column=0, sticky='w')\n",
    "    labelG3 = Label(new_frame, text=\"Right : Open WhatsApp \", bg=\"white\", pady=5, font=\"Perpetua 15 \")\n",
    "    labelG3.grid(row=10, column=0, sticky='w')\n",
    "    labelG4 = Label(new_frame, text=\"Y : Open Google Chrome\", bg=\"white\", pady=5, font=\"Perpetua 15 \")\n",
    "    labelG4.grid(row=15, column=0, sticky='w')\n",
    "    labelG5 = Label(new_frame, text=\"fist: Open Notepad++ Editor\", bg=\"white\", pady=5, font=\"Perpetua 15 \")\n",
    "    labelG5.grid(row=20, column=0, sticky='w')\n",
    "\n",
    "    btn = Button(new_frame, text='Click me !', bg=\"gray\", fg=\"white\", height=1, width=20, command=click)\n",
    "    btn.grid(row=25, column=0, pady=10, padx=10)\n",
    "\n",
    "start_image = PhotoImage()\n",
    "start_button = Button(frame, image=start_image, command=click_start, height=40, width=300, bg=\"gray\", borderwidth=0)\n",
    "start_button.image = start_image\n",
    "start_button.grid(row=2,column=0, padx=100, pady=10)\n",
    "\n",
    "\n",
    "\n",
    "window.mainloop()"
   ]
  },
  {
   "cell_type": "code",
   "execution_count": null,
   "id": "2a7c20f6",
   "metadata": {},
   "outputs": [],
   "source": []
  }
 ],
 "metadata": {
  "kernelspec": {
   "display_name": "Python 3",
   "language": "python",
   "name": "python3"
  },
  "language_info": {
   "codemirror_mode": {
    "name": "ipython",
    "version": 3
   },
   "file_extension": ".py",
   "mimetype": "text/x-python",
   "name": "python",
   "nbconvert_exporter": "python",
   "pygments_lexer": "ipython3",
   "version": "3.8.8"
  }
 },
 "nbformat": 4,
 "nbformat_minor": 5
}
